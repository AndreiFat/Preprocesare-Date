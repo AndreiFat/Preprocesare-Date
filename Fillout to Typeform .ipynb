{
 "cells": [
  {
   "metadata": {
    "ExecuteTime": {
     "end_time": "2025-06-09T10:57:59.028056Z",
     "start_time": "2025-06-09T10:57:58.893212Z"
    }
   },
   "cell_type": "code",
   "source": [
    "import pandas as pd\n",
    "import unicodedata\n",
    "\n",
    "# Funcție pentru eliminarea diacriticelor\n",
    "def normalize_text(text):\n",
    "    text = str(text).lower()\n",
    "    text = unicodedata.normalize('NFKD', text)\n",
    "    return ''.join(c for c in text if not unicodedata.combining(c)).strip()\n",
    "\n",
    "# 1. Încarcă fișierele\n",
    "df_xlsx = pd.read_excel(\"Typeform Excel Editat Model.xlsx\", engine=\"openpyxl\")\n",
    "df_csv = pd.read_csv(\"Fillout 900 RAW Editat.csv\", sep=\";\")\n",
    "\n",
    "# 2. Extrage lista de simptome (coloanele 7–27 din Excel, normalizate fără diacritice)\n",
    "symptom_columns = df_xlsx.columns[7:28]\n",
    "symptom_map = {normalize_text(col): col for col in symptom_columns if isinstance(col, str)}\n",
    "symptom_list = list(symptom_map.keys())\n",
    "\n",
    "# 3. Normalizează textul în coloanele cu simptome din CSV\n",
    "symptom_text_fields = [\"Cu ce probleme de sănătate te știi?\", \"Prezinți unele din semnele/simptomele de mai jos\"]\n",
    "\n",
    "for col in symptom_text_fields:\n",
    "    df_csv[col] = df_csv[col].fillna(\"\").astype(str).str.lower()\n",
    "    df_csv[col] = df_csv[col].str.replace(r\"\\s+\", \" \", regex=True)\n",
    "    df_csv[col] = df_csv[col].str.replace(\"pofta de dulcefoame greu de controlat\", \"pofta de dulce, foame greu de controlat\")\n",
    "    df_csv[col] = df_csv[col].str.replace(\"grasime \", \"grăsime \")\n",
    "    df_csv[col] = df_csv[col].apply(normalize_text)\n",
    "\n",
    "# 4. Verificăm apariția fiecărui simptom în textul normalizat\n",
    "def check_symptom(row, symptom):\n",
    "    for col in symptom_text_fields:\n",
    "        if symptom in row[col]:\n",
    "            return 1\n",
    "    return 0\n",
    "\n",
    "# 5. Creăm noile coloane pentru simptome\n",
    "symptom_data = pd.DataFrame()\n",
    "for symptom in symptom_list:\n",
    "    symptom_data[symptom_map[symptom]] = df_csv.apply(lambda row: check_symptom(row, symptom), axis=1)\n",
    "\n",
    "# 6. Identificăm poziția primei coloane de simptome pentru inserare\n",
    "insert_at = df_csv.columns.get_loc(symptom_text_fields[0])\n",
    "\n",
    "# 7. Eliminăm coloanele textuale originale\n",
    "df_csv.drop(columns=symptom_text_fields, inplace=True)\n",
    "\n",
    "# 8. Inserăm noile coloane de simptome în locul celor eliminate\n",
    "df_result = pd.concat([df_csv.iloc[:, :insert_at], symptom_data, df_csv.iloc[:, insert_at:]], axis=1)\n",
    "\n",
    "# 9. Exportăm fișierul final\n",
    "df_result.to_csv(\"Fillout to Typeform Template.csv\", index=False)\n"
   ],
   "id": "d0612a31d03d9da2",
   "outputs": [],
   "execution_count": 18
  }
 ],
 "metadata": {
  "kernelspec": {
   "display_name": "Python 3",
   "language": "python",
   "name": "python3"
  },
  "language_info": {
   "codemirror_mode": {
    "name": "ipython",
    "version": 2
   },
   "file_extension": ".py",
   "mimetype": "text/x-python",
   "name": "python",
   "nbconvert_exporter": "python",
   "pygments_lexer": "ipython2",
   "version": "2.7.6"
  }
 },
 "nbformat": 4,
 "nbformat_minor": 5
}
